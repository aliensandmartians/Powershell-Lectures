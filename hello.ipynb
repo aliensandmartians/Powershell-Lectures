{
 "cells": [
  {
   "cell_type": "code",
   "execution_count": 5,
   "source": [
    "Write-Host \"Hello World!\""
   ],
   "outputs": [
    {
     "output_type": "stream",
     "name": "stdout",
     "text": [
      "Hello World!\n"
     ]
    }
   ],
   "metadata": {}
  },
  {
   "cell_type": "code",
   "execution_count": null,
   "source": [],
   "outputs": [],
   "metadata": {}
  }
 ],
 "metadata": {
  "orig_nbformat": 4,
  "language_info": {
   "name": "PowerShell",
   "version": "7.0",
   "mimetype": "text/x-powershell",
   "file_extension": ".ps1",
   "pygments_lexer": "powershell"
  },
  "kernelspec": {
   "name": ".net-powershell",
   "display_name": ".NET (PowerShell)",
   "language": "PowerShell"
  }
 },
 "nbformat": 4,
 "nbformat_minor": 2
}